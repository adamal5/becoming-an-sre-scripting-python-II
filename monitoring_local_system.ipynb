{
 "cells": [
  {
   "cell_type": "markdown",
   "metadata": {},
   "source": [
    "Import Required Libraries\n",
    "Here we import the necessary libraries for our system monitoring script. psutil is used for accessing system details like CPU, memory, and disk usage, and boto3 is for interacting with AWS services."
   ]
  },
  {
   "cell_type": "code",
   "execution_count": 7,
   "metadata": {},
   "outputs": [],
   "source": [
    "import psutil\n",
    "import boto3"
   ]
  },
  {
   "cell_type": "markdown",
   "metadata": {},
   "source": [
    "Define Metrics Collection Functions\n",
    "This function is responsible for getting our current system metrics and labelling them accordingly (get_current_system_metrics)."
   ]
  },
  {
   "cell_type": "code",
   "execution_count": 8,
   "metadata": {},
   "outputs": [],
   "source": [
    "def get_current_system_metrics():\n",
    "    current_metrics = {\n",
    "        'CPU': psutil.cpu_percent(interval=1),\n",
    "        'Memory': psutil.virtual_memory().percent,\n",
    "        'Disk': psutil.disk_usage('/').percent\n",
    "    }\n",
    "    print(current_metrics)\n",
    "    return current_metrics\n"
   ]
  },
  {
   "cell_type": "markdown",
   "metadata": {},
   "source": [
    "Define Thresholds for Alerts\n",
    "Here we define the threshold values for each metric that, if exceeded, will trigger an alert."
   ]
  },
  {
   "cell_type": "code",
   "execution_count": null,
   "metadata": {},
   "outputs": [],
   "source": [
    "def define_metric_thresholds():\n",
    "    thresholds = {\n",
    "        'CPU': 1.0,\n",
    "        'Memory': 1.0,\n",
    "        'Disk': 1.0\n",
    "    }\n",
    "    print(thresholds)\n",
    "    return thresholds"
   ]
  },
  {
   "cell_type": "markdown",
   "metadata": {},
   "source": [
    "Alert Message Template\n",
    "This is a template for the alert message that will be sent if any of the metric thresholds are breached."
   ]
  },
  {
   "cell_type": "code",
   "execution_count": null,
   "metadata": {},
   "outputs": [],
   "source": [
    "message_template = '''Hey Adama,\n",
    "\n",
    "It looks like your system is experiencing some issues. \n",
    "Please see the details below:\n",
    "\n",
    "'''\n",
    "\n",
    "signature = '''Kind regards,\n",
    "The SRE Team\n",
    "'''\n"
   ]
  },
  {
   "cell_type": "markdown",
   "metadata": {},
   "source": [
    "Check Metric Thresholds\n",
    "This function compares the current metrics against their respective thresholds and constructs an alert message if any thresholds are breached."
   ]
  },
  {
   "cell_type": "code",
   "execution_count": null,
   "metadata": {},
   "outputs": [],
   "source": [
    "def check_metric_thresholds(metrics, thresholds):\n",
    "    message = message_template\n",
    "    is_breached = False\n",
    "\n",
    "    for metric_name, metric_value in metrics.items():\n",
    "        threshold_value = thresholds[metric_name]\n",
    "        if metric_value > threshold_value:\n",
    "            message += f\"\\n{metric_name} usage: {metric_value}%, Threshold: {threshold_value}%\"\n",
    "            is_breached = True\n",
    "\n",
    "    if not is_breached:\n",
    "        print('There has been no breach')\n",
    "        return ''\n",
    "    print(message)\n",
    "    return message + \"\\n\\n\" + signature\n"
   ]
  },
  {
   "cell_type": "markdown",
   "metadata": {},
   "source": [
    "Send Alert Message via AWS SNS\n",
    "This function uses AWS SNS to send the constructed alert message. Make sure to replace 'ADD YOUR AWS TOPIC ARN HERE' with your actual AWS Topic ARN."
   ]
  },
  {
   "cell_type": "code",
   "execution_count": null,
   "metadata": {},
   "outputs": [],
   "source": [
    "def send_message_via_sns(alert_message):\n",
    "    client = boto3.client('sns')\n",
    "    response = client.publish(\n",
    "        TopicArn='ADD YOUR AWS TOPIC ARN HERE',\n",
    "        Message=alert_message,\n",
    "        Subject='System Threshold Breach',\n",
    "        MessageAttributes={\n",
    "            'myAttributes': {\n",
    "                'DataType': 'String',\n",
    "                'StringValue': 'myValue',\n",
    "            }\n",
    "        }\n",
    "    )"
   ]
  },
  {
   "cell_type": "markdown",
   "metadata": {},
   "source": [
    "Execute Monitoring and Alerting\n",
    "Finally, we execute the monitoring and alerting process by gathering the metrics, checking them against the thresholds, and sending an alert if necessary."
   ]
  },
  {
   "cell_type": "code",
   "execution_count": null,
   "metadata": {},
   "outputs": [],
   "source": [
    "metrics = get_current_system_metrics()\n",
    "thresholds = define_metric_thresholds()\n",
    "alert_message = check_metric_thresholds(metrics, thresholds)\n",
    "# response_message = send_message_via_sns(alert_message)\n"
   ]
  }
 ],
 "metadata": {
  "kernelspec": {
   "display_name": "Python 3",
   "language": "python",
   "name": "python3"
  },
  "language_info": {
   "codemirror_mode": {
    "name": "ipython",
    "version": 3
   },
   "file_extension": ".py",
   "mimetype": "text/x-python",
   "name": "python",
   "nbconvert_exporter": "python",
   "pygments_lexer": "ipython3",
   "version": "3.9.6"
  }
 },
 "nbformat": 4,
 "nbformat_minor": 2
}
